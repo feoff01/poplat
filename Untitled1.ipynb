{
  "nbformat": 4,
  "nbformat_minor": 0,
  "metadata": {
    "colab": {
      "provenance": []
    },
    "kernelspec": {
      "name": "python3",
      "display_name": "Python 3"
    },
    "language_info": {
      "name": "python"
    }
  },
  "cells": [
    {
      "cell_type": "code",
      "execution_count": 20,
      "metadata": {
        "id": "ykhiatvM9gJk",
        "colab": {
          "base_uri": "https://localhost:8080/"
        },
        "outputId": "a5170134-2e1d-43e6-f5a7-c67e944aa950"
      },
      "outputs": [
        {
          "output_type": "stream",
          "name": "stdout",
          "text": [
            "a temperatura é de 15C\n",
            "o tempo esta: {'clear sky': 'nublado'}\n"
          ]
        }
      ],
      "source": [
        "import requests\n",
        "x=requests.get(\"https://api.openweathermap.org/data/2.5/weather?q=Frankfurt&appid=c1d216eaad3de341eb1567183c1000ef\")\n",
        "weatherx= x.json()\n",
        "weatherx\n",
        "nome= {\"clear sky\": \"nublado\"}\n",
        "\n",
        "decricao=(weatherx['weather'][0][\"description\"])\n",
        "\n",
        "temp=round(weatherx[\"main\"][\"temp\"]-273)\n",
        "print(f\"a temperatura é de {temp}C\")\n",
        "print(f\"o tempo esta: {decricao}\")"
      ]
    }
  ]
}